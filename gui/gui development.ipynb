{
 "cells": [
  {
   "cell_type": "code",
   "execution_count": null,
   "metadata": {
    "collapsed": true
   },
   "outputs": [],
   "source": [
    "import tkinter as tk"
   ]
  },
  {
   "cell_type": "code",
   "execution_count": null,
   "metadata": {
    "collapsed": false
   },
   "outputs": [],
   "source": [
    "from tkinter import *\n",
    "master = Tk()\n",
    "\n",
    "def var_states():\n",
    "   print(\"male: %d,\\nfemale: %d\" % (var1.get(), var2.get()))\n",
    "\n",
    "Label(master, text=\"Your sex:\").grid(row=0, sticky=W)\n",
    "var1 = IntVar()\n",
    "Checkbutton(master, text=\"male\", variable=var1).grid(row=1, sticky=W)\n",
    "var2 = IntVar()\n",
    "Checkbutton(master, text=\"female\", variable=var2).grid(row=2, sticky=W)\n",
    "Button(master, text='Quit', command=master.quit).grid(row=3, sticky=W, pady=4)\n",
    "Button(master, text='Show', command=var_states).grid(row=4, sticky=W, pady=4)\n",
    "mainloop()"
   ]
  },
  {
   "cell_type": "code",
   "execution_count": null,
   "metadata": {
    "collapsed": true
   },
   "outputs": [],
   "source": []
  }
 ],
 "metadata": {
  "anaconda-cloud": {},
  "kernelspec": {
   "display_name": "Python [conda env:py3]",
   "language": "python",
   "name": "conda-env-py3-py"
  },
  "language_info": {
   "codemirror_mode": {
    "name": "ipython",
    "version": 3
   },
   "file_extension": ".py",
   "mimetype": "text/x-python",
   "name": "python",
   "nbconvert_exporter": "python",
   "pygments_lexer": "ipython3",
   "version": "3.6.2"
  }
 },
 "nbformat": 4,
 "nbformat_minor": 1
}
